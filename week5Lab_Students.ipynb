{
 "cells": [
  {
   "attachments": {},
   "cell_type": "markdown",
   "metadata": {},
   "source": [
    "# **Tidying**"
   ]
  },
  {
   "attachments": {},
   "cell_type": "markdown",
   "metadata": {},
   "source": [
    "Part of the data engineering process is data cleaning and tidying. What is done in those two processes, is trying to make the data more readable, and complete. This makes much easier to analyze, visualize, and train the data.\n"
   ]
  },
  {
   "attachments": {},
   "cell_type": "markdown",
   "metadata": {},
   "source": [
    "## **Data Tidying**\n",
    "\n",
    "Making the data more organized, and readable is the result of applying data tidying. \n",
    "\n",
    "In this section two main pandas functions are used in data tidying those are `melt` and `pivot_table`."
   ]
  },
  {
   "attachments": {},
   "cell_type": "markdown",
   "metadata": {},
   "source": [
    "Let's start by taking a look at the below dataframe, which represents the income ranges based on religion. This is part of the PEW research, which is famous in the US for conducting pollings and surveys on citizens.\n",
    "\n",
    "When the following are satisfied:\n",
    "\n",
    "\n",
    "1. Each variable forms a column\n",
    "2. Each observation forms a row\n",
    "3. Each type of observational unit forms a table\n",
    "\n",
    "We can then say that our dataset is *tidy*.\n",
    "\n",
    "First we need to import pandas to read csv datasets."
   ]
  },
  {
   "cell_type": "code",
   "execution_count": 185,
   "metadata": {},
   "outputs": [],
   "source": [
    "import pandas as pd\n"
   ]
  },
  {
   "attachments": {},
   "cell_type": "markdown",
   "metadata": {},
   "source": [
    "### **PEW Research Dataset**"
   ]
  },
  {
   "attachments": {},
   "cell_type": "markdown",
   "metadata": {},
   "source": [
    "1. Start by Importing the dataset into a pandas dataframe."
   ]
  },
  {
   "cell_type": "code",
   "execution_count": 186,
   "metadata": {},
   "outputs": [],
   "source": [
    "pew = pd.read_csv(\"./CSVS/pew-raw.csv\")"
   ]
  },
  {
   "attachments": {},
   "cell_type": "markdown",
   "metadata": {},
   "source": [
    "2. Observe the dataset using the `loc`, `iloc`, `head`, or `tail` approaches"
   ]
  },
  {
   "cell_type": "code",
   "execution_count": 187,
   "metadata": {},
   "outputs": [
    {
     "name": "stdout",
     "output_type": "stream",
     "text": [
      "Previewing the first 5 rows of the dataset():\n",
      "            religion   <$10k   $10-20k  $20-30k  $30-40k   $40-50k  $50-75k\n",
      "0           Agnostic      27        34       60       81        76      137\n",
      "1            Atheist      12        27       37       52        35       70\n",
      "2           Buddhist      27        21       30       34        33       58\n",
      "3           Catholic     418       617      732      670       638     1116\n",
      "4  Dont know/refused      15        14       15       11        10       35\n",
      "\n",
      "Displaying the first row using iloc[0]:\n",
      "religion    Agnostic\n",
      " <$10k            27\n",
      " $10-20k          34\n",
      "$20-30k           60\n",
      "$30-40k           81\n",
      " $40-50k          76\n",
      "$50-75k          137\n",
      "Name: 0, dtype: object\n",
      "\n",
      "Value in the first row of the 'religion' column:\n",
      "Agnostic\n"
     ]
    }
   ],
   "source": [
    "# Inspect data\n",
    "print(\"Previewing the first 5 rows of the dataset():\")\n",
    "print(pew.head())\n",
    "\n",
    "print(\"\\nDisplaying the first row using iloc[0]:\")\n",
    "print(pew.iloc[0])\n",
    "\n",
    "print(\"\\nValue in the first row of the 'religion' column:\")\n",
    "print(pew.loc[0, 'religion'])"
   ]
  },
  {
   "attachments": {},
   "cell_type": "markdown",
   "metadata": {},
   "source": [
    "***What does not seem right in the above dataframe?***"
   ]
  },
  {
   "attachments": {},
   "cell_type": "markdown",
   "metadata": {},
   "source": [
    "3. Try to make the column headers represent a variable not a value. For that, use the `melt` function."
   ]
  },
  {
   "cell_type": "code",
   "execution_count": 189,
   "metadata": {},
   "outputs": [
    {
     "name": "stdout",
     "output_type": "stream",
     "text": [
      "\n",
      "Tidied DataFrame:\n",
      "            religion  income  count\n",
      "0           Agnostic   <$10k     27\n",
      "1            Atheist   <$10k     12\n",
      "2           Buddhist   <$10k     27\n",
      "3           Catholic   <$10k    418\n",
      "4  Dont know/refused   <$10k     15\n"
     ]
    }
   ],
   "source": [
    "# Melt the dataset\n",
    "pew_tidy = pew.melt(id_vars=\"religion\", var_name=\"income\", value_name=\"count\")\n",
    "print(\"\\nTidied DataFrame:\")\n",
    "print(pew_tidy.head())"
   ]
  },
  {
   "attachments": {},
   "cell_type": "markdown",
   "metadata": {},
   "source": [
    "### **Billboard Dataset**"
   ]
  },
  {
   "attachments": {},
   "cell_type": "markdown",
   "metadata": {},
   "source": [
    "This dataset outlines data about the top hit songs on the Billboard list and the week from entrance that it was in the billboard with the ranking."
   ]
  },
  {
   "attachments": {},
   "cell_type": "markdown",
   "metadata": {},
   "source": [
    "1. Read the dataset and store it in a pandas dataframe. Note that the usual utf-8 encoding does not work on this dataset. The reason behind this is that there might be characters that are not supported by `utf-8`.\n",
    "\n",
    "The suggestion is to use for this dataset `unicode_escape` encoding. (converts all non-ASCII characters into their \\uXXXX representations)"
   ]
  },
  {
   "cell_type": "code",
   "execution_count": 197,
   "metadata": {},
   "outputs": [],
   "source": [
    "# Load and inspect the dataset\n",
    "billboard = pd.read_csv(\"./CSVS/billboard.csv\", encoding=\"unicode_escape\")"
   ]
  },
  {
   "attachments": {},
   "cell_type": "markdown",
   "metadata": {},
   "source": [
    "2. Observe the first few rows of the dataset."
   ]
  },
  {
   "cell_type": "code",
   "execution_count": 198,
   "metadata": {},
   "outputs": [
    {
     "name": "stdout",
     "output_type": "stream",
     "text": [
      "\n",
      "Initial preview:\n",
      "   year      artist.inverted                                  track  time  \\\n",
      "0  2000      Destiny's Child               Independent Women Part I  3:38   \n",
      "1  2000              Santana                           Maria, Maria  4:18   \n",
      "2  2000        Savage Garden                     I Knew I Loved You  4:07   \n",
      "3  2000              Madonna                                  Music  3:45   \n",
      "4  2000  Aguilera, Christina  Come On Over Baby (All I Want Is You)  3:38   \n",
      "\n",
      "  genre date.entered date.peaked  x1st.week  x2nd.week  x3rd.week  ...  \\\n",
      "0  Rock   2000-09-23  2000-11-18         78       63.0       49.0  ...   \n",
      "1  Rock   2000-02-12  2000-04-08         15        8.0        6.0  ...   \n",
      "2  Rock   1999-10-23  2000-01-29         71       48.0       43.0  ...   \n",
      "3  Rock   2000-08-12  2000-09-16         41       23.0       18.0  ...   \n",
      "4  Rock   2000-08-05  2000-10-14         57       47.0       45.0  ...   \n",
      "\n",
      "   x67th.week  x68th.week  x69th.week  x70th.week  x71st.week  x72nd.week  \\\n",
      "0         NaN         NaN         NaN         NaN         NaN         NaN   \n",
      "1         NaN         NaN         NaN         NaN         NaN         NaN   \n",
      "2         NaN         NaN         NaN         NaN         NaN         NaN   \n",
      "3         NaN         NaN         NaN         NaN         NaN         NaN   \n",
      "4         NaN         NaN         NaN         NaN         NaN         NaN   \n",
      "\n",
      "   x73rd.week  x74th.week  x75th.week  x76th.week  \n",
      "0         NaN         NaN         NaN         NaN  \n",
      "1         NaN         NaN         NaN         NaN  \n",
      "2         NaN         NaN         NaN         NaN  \n",
      "3         NaN         NaN         NaN         NaN  \n",
      "4         NaN         NaN         NaN         NaN  \n",
      "\n",
      "[5 rows x 83 columns]\n"
     ]
    }
   ],
   "source": [
    "print(\"\\nInitial preview:\")\n",
    "print(billboard.head())"
   ]
  },
  {
   "attachments": {},
   "cell_type": "markdown",
   "metadata": {},
   "source": [
    "***What is wrong with the above dataset?***"
   ]
  },
  {
   "attachments": {},
   "cell_type": "markdown",
   "metadata": {},
   "source": [
    "3. Let's, again, use the `melt` function to fix the general structure of the dataframe."
   ]
  },
  {
   "cell_type": "code",
   "execution_count": 199,
   "metadata": {},
   "outputs": [],
   "source": [
    "# Melt all week columns\n",
    "billboard_mel = billboard.melt(\n",
    "    id_vars=[\"year\", \"artist.inverted\", \"track\", \"time\", \"genre\", \"date.entered\", \"date.peaked\"],\n",
    "    var_name=\"week\",\n",
    "    value_name=\"rank\"\n",
    ")"
   ]
  },
  {
   "attachments": {},
   "cell_type": "markdown",
   "metadata": {},
   "source": [
    "If we inspect the current dataframe. We find that it is structured in a better way than before. \n",
    "\n",
    "However, the ***Week*** column looks a bit ugly!\n",
    "\n",
    "4. Let's try to place only the week number in that column without the extras surrounding it."
   ]
  },
  {
   "cell_type": "code",
   "execution_count": 200,
   "metadata": {},
   "outputs": [
    {
     "name": "stdout",
     "output_type": "stream",
     "text": [
      "   year      artist.inverted                                  track  time  \\\n",
      "0  2000      Destiny's Child               Independent Women Part I  3:38   \n",
      "1  2000              Santana                           Maria, Maria  4:18   \n",
      "2  2000        Savage Garden                     I Knew I Loved You  4:07   \n",
      "3  2000              Madonna                                  Music  3:45   \n",
      "4  2000  Aguilera, Christina  Come On Over Baby (All I Want Is You)  3:38   \n",
      "\n",
      "  genre date.entered date.peaked  week  rank  \n",
      "0  Rock   2000-09-23  2000-11-18     1  78.0  \n",
      "1  Rock   2000-02-12  2000-04-08     1  15.0  \n",
      "2  Rock   1999-10-23  2000-01-29     1  71.0  \n",
      "3  Rock   2000-08-12  2000-09-16     1  41.0  \n",
      "4  Rock   2000-08-05  2000-10-14     1  57.0  \n"
     ]
    }
   ],
   "source": [
    "# Clean week column (remove 'x' and '.week')\n",
    "billboard_mel[\"week\"] = billboard_mel[\"week\"].str.extract(r'(\\d+)').astype(int)\n",
    "print(billboard_mel.head(5))"
   ]
  },
  {
   "attachments": {},
   "cell_type": "markdown",
   "metadata": {},
   "source": [
    "5. Now let's inspect the ***Week*** column in the dataframe."
   ]
  },
  {
   "cell_type": "code",
   "execution_count": 201,
   "metadata": {},
   "outputs": [
    {
     "name": "stdout",
     "output_type": "stream",
     "text": [
      "\n",
      "cleaned 'week' column:\n",
      "[1 2 3 4 5]\n"
     ]
    }
   ],
   "source": [
    "print(\"\\ncleaned 'week' column:\")\n",
    "print(billboard_mel[\"week\"].unique()[:5])"
   ]
  },
  {
   "attachments": {},
   "cell_type": "markdown",
   "metadata": {},
   "source": [
    "Next, let's try to find the date at which the song ranked the number that is shown per row.\n",
    "\n",
    "6. To do that let's first think of the equation that is going to get us the relevant date at which the song ranked the *rth*.\n",
    "\n"
   ]
  },
  {
   "cell_type": "code",
   "execution_count": 195,
   "metadata": {},
   "outputs": [
    {
     "name": "stdout",
     "output_type": "stream",
     "text": [
      "   year      artist.inverted                                  track  time  \\\n",
      "0  2000      Destiny's Child               Independent Women Part I  3:38   \n",
      "1  2000              Santana                           Maria, Maria  4:18   \n",
      "2  2000        Savage Garden                     I Knew I Loved You  4:07   \n",
      "3  2000              Madonna                                  Music  3:45   \n",
      "4  2000  Aguilera, Christina  Come On Over Baby (All I Want Is You)  3:38   \n",
      "5  2000                Janet                  Doesn't Really Matter  4:17   \n",
      "6  2000      Destiny's Child                            Say My Name  4:31   \n",
      "7  2000    Iglesias, Enrique                            Be With You  3:36   \n",
      "8  2000                Sisqo                             Incomplete  3:52   \n",
      "9  2000             Lonestar                                 Amazed  4:25   \n",
      "\n",
      "     genre date.entered date.peaked  week  rank chart.date  \n",
      "0     Rock   2000-09-23  2000-11-18     1  78.0 2000-09-23  \n",
      "1     Rock   2000-02-12  2000-04-08     1  15.0 2000-02-12  \n",
      "2     Rock   1999-10-23  2000-01-29     1  71.0 1999-10-23  \n",
      "3     Rock   2000-08-12  2000-09-16     1  41.0 2000-08-12  \n",
      "4     Rock   2000-08-05  2000-10-14     1  57.0 2000-08-05  \n",
      "5     Rock   2000-06-17  2000-08-26     1  59.0 2000-06-17  \n",
      "6     Rock   1999-12-25  2000-03-18     1  83.0 1999-12-25  \n",
      "7    Latin   2000-04-01  2000-06-24     1  63.0 2000-04-01  \n",
      "8     Rock   2000-06-24  2000-08-12     1  77.0 2000-06-24  \n",
      "9  Country   1999-06-05  2000-03-04     1  81.0 1999-06-05  \n"
     ]
    }
   ],
   "source": [
    "billboard_mel[\"date.entered\"] = pd.to_datetime(billboard_mel[\"date.entered\"], errors=\"coerce\")\n",
    "\n",
    "# Add timedelta of (week - 1) weeks to date.entered\n",
    "billboard_mel[\"chart.date\"] = billboard_mel[\"date.entered\"] + pd.to_timedelta((billboard_mel[\"week\"] - 1) * 5, unit=\"d\")\n",
    "\n",
    "print(billboard_mel.head(10))"
   ]
  },
  {
   "attachments": {},
   "cell_type": "markdown",
   "metadata": {},
   "source": [
    "*Timedeltas are absolute differences in times, expressed in difference units (e.g. days, hours, minutes, seconds). This method converts an argument from a recognized timedelta format / value into a Timedelta type.*\n"
   ]
  },
  {
   "attachments": {},
   "cell_type": "markdown",
   "metadata": {},
   "source": [
    "***What is the problem with the calculation above?***"
   ]
  },
  {
   "attachments": {},
   "cell_type": "markdown",
   "metadata": {},
   "source": [
    "7. Let's only keep necessary columns"
   ]
  },
  {
   "cell_type": "code",
   "execution_count": 196,
   "metadata": {},
   "outputs": [
    {
     "name": "stdout",
     "output_type": "stream",
     "text": [
      "       artist.inverted                                  track genre  week  \\\n",
      "0      Destiny's Child               Independent Women Part I  Rock     1   \n",
      "1              Santana                           Maria, Maria  Rock     1   \n",
      "2        Savage Garden                     I Knew I Loved You  Rock     1   \n",
      "3              Madonna                                  Music  Rock     1   \n",
      "4  Aguilera, Christina  Come On Over Baby (All I Want Is You)  Rock     1   \n",
      "\n",
      "   rank chart.date  \n",
      "0  78.0 2000-09-23  \n",
      "1  15.0 2000-02-12  \n",
      "2  71.0 1999-10-23  \n",
      "3  41.0 2000-08-12  \n",
      "4  57.0 2000-08-05  \n"
     ]
    }
   ],
   "source": [
    "# 7. Keep only necessary columns\n",
    "necessary_columns_to_keep = [\"artist.inverted\", \"track\", \"genre\", \"week\", \"rank\", \"chart.date\"]\n",
    "billboard_cleaned = billboard_mel[necessary_columns_to_keep]\n",
    "print(billboard_cleaned.head(5))"
   ]
  },
  {
   "attachments": {},
   "cell_type": "markdown",
   "metadata": {},
   "source": [
    "8. How to rename your columns?"
   ]
  },
  {
   "cell_type": "code",
   "execution_count": 202,
   "metadata": {},
   "outputs": [
    {
     "name": "stdout",
     "output_type": "stream",
     "text": [
      "Cleaned and renamed dataset:\n",
      "                artist                                  title genre  \\\n",
      "0      Destiny's Child               Independent Women Part I  Rock   \n",
      "1              Santana                           Maria, Maria  Rock   \n",
      "2        Savage Garden                     I Knew I Loved You  Rock   \n",
      "3              Madonna                                  Music  Rock   \n",
      "4  Aguilera, Christina  Come On Over Baby (All I Want Is You)  Rock   \n",
      "\n",
      "   week_number  weekly_rank ranking_date  \n",
      "0            1         78.0   2000-09-23  \n",
      "1            1         15.0   2000-02-12  \n",
      "2            1         71.0   1999-10-23  \n",
      "3            1         41.0   2000-08-12  \n",
      "4            1         57.0   2000-08-05  \n"
     ]
    }
   ],
   "source": [
    "# 8. Rename columns\n",
    "billboard_to_cleaned = billboard_cleaned.rename(columns={\n",
    "    \"artist.inverted\": \"artist\",\n",
    "    \"track\": \"title\",\n",
    "    \"genre\": \"genre\",\n",
    "    \"week\": \"week_number\",\n",
    "    \"rank\": \"weekly_rank\",\n",
    "    \"chart.date\": \"ranking_date\"\n",
    "})\n",
    "\n",
    "\n",
    "print(\"Cleaned and renamed dataset:\")\n",
    "print(billboard_to_cleaned.head())"
   ]
  },
  {
   "attachments": {},
   "cell_type": "markdown",
   "metadata": {},
   "source": [
    "Display the dataframe"
   ]
  },
  {
   "attachments": {},
   "cell_type": "markdown",
   "metadata": {},
   "source": [
    "In the above dataframe, there are some *NaN* values. What are we going to do? <br/>\n",
    "9. Apply quick data cleaning and then observe the dataset"
   ]
  },
  {
   "cell_type": "code",
   "execution_count": 204,
   "metadata": {},
   "outputs": [
    {
     "name": "stdout",
     "output_type": "stream",
     "text": [
      "\n",
      "Final cleaned Billboard dataset:\n",
      "                artist                                  title    genre  \\\n",
      "0      Destiny's Child               Independent Women Part I     Rock   \n",
      "1              Santana                           Maria, Maria     Rock   \n",
      "2        Savage Garden                     I Knew I Loved You     Rock   \n",
      "3              Madonna                                  Music     Rock   \n",
      "4  Aguilera, Christina  Come On Over Baby (All I Want Is You)     Rock   \n",
      "5                Janet                  Doesn't Really Matter     Rock   \n",
      "6      Destiny's Child                            Say My Name     Rock   \n",
      "7    Iglesias, Enrique                            Be With You    Latin   \n",
      "8                Sisqo                             Incomplete     Rock   \n",
      "9             Lonestar                                 Amazed  Country   \n",
      "\n",
      "   week_number  weekly_rank ranking_date  \n",
      "0            1         78.0   2000-09-23  \n",
      "1            1         15.0   2000-02-12  \n",
      "2            1         71.0   1999-10-23  \n",
      "3            1         41.0   2000-08-12  \n",
      "4            1         57.0   2000-08-05  \n",
      "5            1         59.0   2000-06-17  \n",
      "6            1         83.0   1999-12-25  \n",
      "7            1         63.0   2000-04-01  \n",
      "8            1         77.0   2000-06-24  \n",
      "9            1         81.0   1999-06-05  \n"
     ]
    }
   ],
   "source": [
    "# 9. Drop rows with NaN and display final result\n",
    "billboard_to_cleaned.dropna(inplace=True)\n",
    "print(\"\\nFinal cleaned Billboard dataset:\")\n",
    "print(billboard_to_cleaned.head(10))"
   ]
  },
  {
   "attachments": {},
   "cell_type": "markdown",
   "metadata": {},
   "source": [
    "## **Data Cleaning**\n",
    "\n",
    "Data cleaning involves removing unwanted characters, imputing, or dropping missing values.\n",
    "\n",
    "The decision is based on the dataset you have, and the information you can extract from the other columns.\n",
    "\n",
    "\n",
    "Examples of data cleaning include cleaning:\n",
    "\n",
    "1.   **Missing Data**\n",
    "2.   **Irregular Data** (Outliers)\n",
    "3.   **Unnecessary Data** — Repetitive Data, Duplicates and more\n",
    "4.   **Inconsistent Data** — Capitalization, Addresses and more\n",
    "\n",
    "\n",
    "\n",
    "\n",
    "\n",
    "\n"
   ]
  },
  {
   "attachments": {},
   "cell_type": "markdown",
   "metadata": {},
   "source": [
    "### **Cars Data Set**"
   ]
  },
  {
   "attachments": {},
   "cell_type": "markdown",
   "metadata": {},
   "source": [
    "Start by reading the dataset related to car models: ./CSVs/cars.csv"
   ]
  },
  {
   "attachments": {},
   "cell_type": "markdown",
   "metadata": {},
   "source": [
    "First Row seems to be the datatype, we need to remove it"
   ]
  },
  {
   "cell_type": "code",
   "execution_count": 205,
   "metadata": {},
   "outputs": [
    {
     "name": "stdout",
     "output_type": "stream",
     "text": [
      "Initial dataset preview:\n",
      "                         Car   MPG  Cylinders  Displacement  Horsepower  \\\n",
      "0  Chevrolet Chevelle Malibu   NaN          8         307.0       130.0   \n",
      "1          Buick Skylark 320  15.0          8         350.0         NaN   \n",
      "2         Plymouth Satellite   NaN          8         318.0       150.0   \n",
      "3              AMC Rebel SST  16.0          8           NaN       150.0   \n",
      "4                Ford Torino  17.0          8         302.0       140.0   \n",
      "\n",
      "   Weight  Acceleration  Model Origin  \n",
      "0  3504.0          12.0     70     US  \n",
      "1  3693.0          11.5     70     US  \n",
      "2  3436.0          11.0     70     US  \n",
      "3     NaN          12.0     70     US  \n",
      "4  3449.0          10.5     70     US  \n",
      "\n",
      "Missing values per column:\n",
      "Car             0\n",
      "MPG             3\n",
      "Cylinders       0\n",
      "Displacement    1\n",
      "Horsepower      2\n",
      "Weight          1\n",
      "Acceleration    0\n",
      "Model           0\n",
      "Origin          0\n",
      "dtype: int64\n"
     ]
    }
   ],
   "source": [
    "import pandas as pd\n",
    "\n",
    "# 1. Load the dataset (skip the first metadata row and use ';' as separator)\n",
    "car_df = pd.read_csv(\"./CSVs/cars.csv\", sep=\";\", skiprows=[1])\n",
    "\n",
    "# 2. View the first few rows\n",
    "print(\"Initial dataset preview:\")\n",
    "print(car_df.head())\n",
    "\n",
    "# 3. Check for missing values\n",
    "print(\"\\nMissing values per column:\")\n",
    "print(car_df.isna().sum())\n",
    "\n",
    "# 4. Convert relevant columns to numeric (force coercion of invalid strings)\n",
    "car_df[\"MPG\"] = pd.to_numeric(car_df[\"MPG\"], errors=\"coerce\")\n",
    "car_df[\"Horsepower\"] = pd.to_numeric(car_df[\"Horsepower\"], errors=\"coerce\")\n",
    "car_df[\"Displacement\"] = pd.to_numeric(car_df[\"Displacement\"], errors=\"coerce\")\n",
    "car_df[\"Weight\"] = pd.to_numeric(car_df[\"Weight\"], errors=\"coerce\")"
   ]
  },
  {
   "attachments": {},
   "cell_type": "markdown",
   "metadata": {},
   "source": [
    "Let's observe the columns with null values.  Either by using the `isnull().sum()` function "
   ]
  },
  {
   "attachments": {},
   "cell_type": "markdown",
   "metadata": {},
   "source": [
    "There aren't many missing values. Let's take a glimpse at the percentage of the missing values:\n",
    "\n",
    "**HINT:** We'll need `Numpy` for the below task."
   ]
  },
  {
   "attachments": {},
   "cell_type": "markdown",
   "metadata": {},
   "source": [
    "Around *0.19%* of the values are missing, which isn't a lot. Therefore, we might go with the option of dropping all the rows with null values."
   ]
  },
  {
   "attachments": {},
   "cell_type": "markdown",
   "metadata": {},
   "source": [
    "Lets also check dropping the columns"
   ]
  },
  {
   "attachments": {},
   "cell_type": "markdown",
   "metadata": {},
   "source": [
    "Let's observe how many columns we lost"
   ]
  },
  {
   "attachments": {},
   "cell_type": "markdown",
   "metadata": {},
   "source": [
    "### **Cars Dataset - Filling in missing values automatically**\n",
    "\n",
    "Another option is to try and fill in the missing values through imputations."
   ]
  },
  {
   "attachments": {},
   "cell_type": "markdown",
   "metadata": {},
   "source": [
    "Let's take the `MPG` column for example. We can fill in the missing values with 0s through the following line of code:\n",
    "\n",
    "`df_cars.fillna(0) `. "
   ]
  },
  {
   "attachments": {},
   "cell_type": "markdown",
   "metadata": {},
   "source": [
    "However, this does not make much sense as there isn't MPG equal to 0. How about we plot the MPG column and if it follows a random distribution we can use the mean of the column to compute the missing values. Otherwise, we can use the median (if there is a skewed normal distribution). However, there might be a better way of imputation which is getting the median or the mean of the MPG of the cars with similar attributes."
   ]
  },
  {
   "attachments": {},
   "cell_type": "markdown",
   "metadata": {},
   "source": [
    "If we observe the graph above, we can consider it in a way or another normally distributed. Therefore, we can impute the missing values using the mean."
   ]
  },
  {
   "attachments": {},
   "cell_type": "markdown",
   "metadata": {},
   "source": [
    "To compute the mean we need numeric values. However the values in the dataframe are objects. Therefore, we need to change them to numerics so that we can compute them."
   ]
  },
  {
   "attachments": {},
   "cell_type": "markdown",
   "metadata": {},
   "source": [
    "Now let's see what is the mean of the MPG column"
   ]
  },
  {
   "attachments": {},
   "cell_type": "markdown",
   "metadata": {},
   "source": [
    "We can use this mean to compute the missing values since the graph demonstarted a normal distribution"
   ]
  },
  {
   "cell_type": "code",
   "execution_count": 206,
   "metadata": {},
   "outputs": [
    {
     "name": "stdout",
     "output_type": "stream",
     "text": [
      "\n",
      "Cleaned dataset info:\n",
      "<class 'pandas.core.frame.DataFrame'>\n",
      "RangeIndex: 406 entries, 0 to 405\n",
      "Data columns (total 9 columns):\n",
      " #   Column        Non-Null Count  Dtype  \n",
      "---  ------        --------------  -----  \n",
      " 0   Car           406 non-null    object \n",
      " 1   MPG           406 non-null    float64\n",
      " 2   Cylinders     406 non-null    int64  \n",
      " 3   Displacement  406 non-null    float64\n",
      " 4   Horsepower    406 non-null    float64\n",
      " 5   Weight        406 non-null    float64\n",
      " 6   Acceleration  406 non-null    float64\n",
      " 7   Model         406 non-null    int64  \n",
      " 8   Origin        406 non-null    object \n",
      "dtypes: float64(5), int64(2), object(2)\n",
      "memory usage: 28.7+ KB\n",
      "None\n",
      "\n",
      "Cleaned data sample:\n",
      "                         Car   MPG  Cylinders  Displacement  Horsepower  \\\n",
      "0  Chevrolet Chevelle Malibu  22.5          8         307.0       130.0   \n",
      "1          Buick Skylark 320  15.0          8         350.0        92.5   \n",
      "2         Plymouth Satellite  22.5          8         318.0       150.0   \n",
      "3              AMC Rebel SST  16.0          8         151.0       150.0   \n",
      "4                Ford Torino  17.0          8         302.0       140.0   \n",
      "\n",
      "   Weight  Acceleration  Model Origin  \n",
      "0  3504.0          12.0     70     US  \n",
      "1  3693.0          11.5     70     US  \n",
      "2  3436.0          11.0     70     US  \n",
      "3  2815.0          12.0     70     US  \n",
      "4  3449.0          10.5     70     US  \n"
     ]
    }
   ],
   "source": [
    "car_df.fillna({\"MPG\":car_df[\"MPG\"].median()}, inplace=True)\n",
    "car_df.fillna({\"Horsepower\":car_df[\"Horsepower\"].median()}, inplace=True)\n",
    "car_df.fillna({\"Displacement\":car_df[\"Displacement\"].median()}, inplace=True)\n",
    "car_df.fillna({\"Weight\":car_df[\"Weight\"].median()}, inplace=True)\n",
    "\n",
    "# 6. Drop any rows still containing NaN\n",
    "car_df.dropna(inplace=True)\n",
    "\n",
    "# 7. Remove duplicate entries\n",
    "car_cleaned = car_df.drop_duplicates()\n",
    "\n",
    "# 8. Final dataset info\n",
    "print(\"\\nCleaned dataset info:\")\n",
    "print(car_cleaned.info())\n",
    "\n",
    "# 9. Preview cleaned data\n",
    "print(\"\\nCleaned data sample:\")\n",
    "print(car_cleaned.head())"
   ]
  },
  {
   "attachments": {},
   "cell_type": "markdown",
   "metadata": {},
   "source": [
    "### **Car Dataset - Simple Imputer**"
   ]
  },
  {
   "attachments": {},
   "cell_type": "markdown",
   "metadata": {},
   "source": [
    "*SimpleImputer* is a `scikit-learn` class which is helpful in handling the missing data in the predictive model dataset. It replaces the `NaN` values with a specified placeholder.\n",
    "It is implemented by the use of the `SimpleImputer()` method which takes the following arguments :\n",
    "\n",
    "`missing_values` : The missing_values placeholder which has to be imputed. By default is NaN\n",
    "\n",
    "`strategy` : The data which will replace the NaN values from the dataset. The strategy argument can take the values – ‘mean'(default), ‘median’, ‘most_frequent’ and ‘constant’.\n"
   ]
  },
  {
   "attachments": {},
   "cell_type": "markdown",
   "metadata": {},
   "source": [
    "Let's start by importing the `SimpleImputer` into our notebook"
   ]
  },
  {
   "attachments": {},
   "cell_type": "markdown",
   "metadata": {},
   "source": [
    "What we need to do are two essential steps:\n",
    "\n",
    "1. fit the data (compute the mean / median / most freq)\n",
    "2. transform the data (place the computed values in the NaN cells)"
   ]
  },
  {
   "cell_type": "code",
   "execution_count": 175,
   "metadata": {},
   "outputs": [
    {
     "name": "stdout",
     "output_type": "stream",
     "text": [
      "Final cleaned data using SimpleImputer:\n",
      "                         Car   MPG  Cylinders  Displacement  Horsepower  \\\n",
      "0  Chevrolet Chevelle Malibu  22.5          8         307.0       130.0   \n",
      "1          Buick Skylark 320  15.0          8         350.0        92.5   \n",
      "2         Plymouth Satellite  22.5          8         318.0       150.0   \n",
      "3              AMC Rebel SST  16.0          8         151.0       150.0   \n",
      "4                Ford Torino  17.0          8         302.0       140.0   \n",
      "\n",
      "   Weight  Acceleration  Model Origin  \n",
      "0  3504.0          12.0     70     US  \n",
      "1  3693.0          11.5     70     US  \n",
      "2  3436.0          11.0     70     US  \n",
      "3  2815.0          12.0     70     US  \n",
      "4  3449.0          10.5     70     US  \n"
     ]
    }
   ],
   "source": [
    "import pandas as pd\n",
    "from sklearn.impute import SimpleImputer\n",
    "\n",
    "# Load dataset (skip data type row)\n",
    "car_df = pd.read_csv(\"CSVs/cars.csv\", sep=\";\", skiprows=[1])\n",
    "\n",
    "# Convert relevant columns to numeric\n",
    "numeric_cols = [\"MPG\", \"Displacement\", \"Horsepower\", \"Weight\", \"Acceleration\"]\n",
    "for col in numeric_cols:\n",
    "    car_df[col] = pd.to_numeric(car_df[col], errors=\"coerce\")\n",
    "\n",
    "# Create an imputer instance with median strategy\n",
    "imputer = SimpleImputer(strategy=\"median\")\n",
    "\n",
    "# Apply imputer to numeric columns\n",
    "car_df[numeric_cols] = imputer.fit_transform(car_df[numeric_cols])\n",
    "\n",
    "# Drop remaining NaNs (if any) and remove duplicates\n",
    "car_df.dropna(inplace=True)\n",
    "cars_cleaned = car_df.drop_duplicates().reset_index(drop=True)\n",
    "\n",
    "print(\"Final cleaned data using SimpleImputer:\")\n",
    "print(cars_cleaned.head())"
   ]
  },
  {
   "cell_type": "markdown",
   "metadata": {},
   "source": [
    "## **Outlier Detection** \n",
    "\n",
    "\n",
    "An Outlier is a data-item/object that deviates significantly from the rest of the (so-called normal)objects. They can be caused by measurement or execution errors. The analysis for outlier detection is referred to as outlier mining. There are many ways to detect the outliers, and the removal process is the data frame same as removing a data item from the panda’s data frame.\n",
    "\n",
    "\n",
    "\n",
    "https://www.geeksforgeeks.org/detect-and-remove-the-outliers-using-python/\n",
    "\n",
    "\n",
    "\n"
   ]
  },
  {
   "cell_type": "code",
   "execution_count": 176,
   "metadata": {},
   "outputs": [
    {
     "name": "stdout",
     "output_type": "stream",
     "text": [
      "Initial shape: (442, 10)\n",
      "        age       sex       bmi        bp        s1        s2        s3  \\\n",
      "0  0.038076  0.050680  0.061696  0.021872 -0.044223 -0.034821 -0.043401   \n",
      "1 -0.001882 -0.044642 -0.051474 -0.026328 -0.008449 -0.019163  0.074412   \n",
      "2  0.085299  0.050680  0.044451 -0.005670 -0.045599 -0.034194 -0.032356   \n",
      "3 -0.089063 -0.044642 -0.011595 -0.036656  0.012191  0.024991 -0.036038   \n",
      "4  0.005383 -0.044642 -0.036385  0.021872  0.003935  0.015596  0.008142   \n",
      "\n",
      "         s4        s5        s6  \n",
      "0 -0.002592  0.019907 -0.017646  \n",
      "1 -0.039493 -0.068332 -0.092204  \n",
      "2 -0.002592  0.002861 -0.025930  \n",
      "3  0.034309  0.022688 -0.009362  \n",
      "4 -0.002592 -0.031988 -0.046641  \n"
     ]
    }
   ],
   "source": [
    "import pandas as pd\n",
    "import matplotlib.pyplot as plt\n",
    "import seaborn as sns\n",
    "from scipy import stats\n",
    "from sklearn.datasets import load_diabetes\n",
    "\n",
    "# 1. Load and convert to DataFrame\n",
    "diabetes_data_db = load_diabetes()\n",
    "diabetes_df_db = pd.DataFrame(diabetes_data_db.data, columns=diabetes_data_db.feature_names)\n",
    "\n",
    "# 2. Preview the dataset\n",
    "print(\"Initial shape:\", diabetes_df_db.shape)\n",
    "print(diabetes_df_db.head())\n"
   ]
  },
  {
   "cell_type": "markdown",
   "metadata": {},
   "source": [
    "### Outliers Visualization"
   ]
  },
  {
   "cell_type": "markdown",
   "metadata": {},
   "source": [
    "#### Visualizing Outliers Using Box Plot\n",
    "It captures the summary of the data effectively and efficiently with only a simple box and whiskers. Boxplot summarizes sample data using 25th, 50th, and 75th percentiles. One can just get insights(quartiles, median, and outliers) into the dataset by just looking at its boxplot."
   ]
  },
  {
   "cell_type": "code",
   "execution_count": 177,
   "metadata": {},
   "outputs": [
    {
     "data": {
      "image/png": "[encoded data removed]",
      "text/plain": [
       "<Figure size 1200x600 with 1 Axes>"
      ]
     },
     "metadata": {},
     "output_type": "display_data"
    }
   ],
   "source": [
    "plt.figure(figsize=(12, 6))\n",
    "sns.boxplot(data=diabetes_df_db)\n",
    "plt.title(\"Plotting the diabetes dataset features using Boxplot\")\n",
    "plt.xticks(rotation=45)\n",
    "plt.tight_layout()\n",
    "plt.show()"
   ]
  },
  {
   "cell_type": "markdown",
   "metadata": {},
   "source": [
    "#### Visualizing Outliers Using ScatterPlot.\n",
    "\n",
    "It is used when you have paired numerical data and when your dependent variable has multiple values for each reading independent variable, or when trying to determine the relationship between the two variables. In the process of utilizing the scatter plot, one can also use it for outlier detection."
   ]
  },
  {
   "cell_type": "code",
   "execution_count": 178,
   "metadata": {},
   "outputs": [
    {
     "data": {
      "image/png": "[encoded data removed]",
      "text/plain": [
       "<Figure size 800x600 with 1 Axes>"
      ]
     },
     "metadata": {},
     "output_type": "display_data"
    }
   ],
   "source": [
    "# Scatterplot to detect outliers between two correlated features\n",
    "plt.figure(figsize=(8, 6))\n",
    "sns.scatterplot(data=diabetes_df_db, x='bmi', y='bp')\n",
    "plt.title(\"Scatter Plot: BMI vs BP\")\n",
    "plt.xlabel(\"Body Mass Index (bmi)\")\n",
    "plt.ylabel(\"BP Blood Pressure\")\n",
    "plt.axhline(y=diabetes_df_db['bp'].mean(), color='r', linestyle='--', label='Mean BP')\n",
    "plt.axvline(x=diabetes_df_db['bmi'].mean(), color='g', linestyle='--', label='Mean BMI')\n",
    "plt.grid(True)\n",
    "plt.show()"
   ]
  },
  {
   "cell_type": "markdown",
   "metadata": {},
   "source": [
    "#### Z-Score:\n",
    "Z- Score is also called a standard score. This value/score helps to understand that how far is the data point from the mean. And after setting up a threshold value one can utilize z score values of data points to define the outliers.\n",
    "<br>\n",
    "Zscore = (data_point -mean) / std. deviation\n",
    "\n"
   ]
  },
  {
   "cell_type": "code",
   "execution_count": 179,
   "metadata": {},
   "outputs": [
    {
     "name": "stdout",
     "output_type": "stream",
     "text": [
      "\n",
      "Absolute Z-score: [[0.80050009 1.06548848 1.29708846 ... 0.05449919 0.41853093 0.37098854]\n",
      " [0.03956713 0.93853666 1.08218016 ... 0.83030083 1.43658851 1.93847913]\n",
      " [1.79330681 1.06548848 0.93453324 ... 0.05449919 0.06015558 0.54515416]\n",
      " ...\n",
      " [0.87686984 1.06548848 0.33441002 ... 0.23293356 0.98564884 0.32567395]\n",
      " [0.9560041  0.93853666 0.82123474 ... 0.55838411 0.93616291 0.54515416]\n",
      " [0.9560041  0.93853666 1.53537419 ... 0.83030083 0.08875225 0.06442552]]\n"
     ]
    }
   ],
   "source": [
    "# 4. Z-Score Method\n",
    "z_scores = stats.zscore(diabetes_df_db)\n",
    "abs_z_scores = abs(z_scores)\n",
    "print(\"\\nAbsolute Z-score:\",abs_z_scores)"
   ]
  },
  {
   "cell_type": "markdown",
   "metadata": {},
   "source": [
    "Now to define an outlier threshold value is chosen which is generally 3.0. As 99.7% of the data points lie between +/- 3 standard deviation (using Gaussian Distribution approach).\n",
    "\n",
    "Rows where Z value is greater than 2"
   ]
  },
  {
   "cell_type": "code",
   "execution_count": 180,
   "metadata": {},
   "outputs": [
    {
     "name": "stdout",
     "output_type": "stream",
     "text": [
      "\n",
      "Shape after Z-score filtering: (430, 10)\n"
     ]
    }
   ],
   "source": [
    "filtered_z = (abs_z_scores < 3).all(axis=1)\n",
    "df_zscore_clean = diabetes_df_db[filtered_z]\n",
    "print(\"\\nShape after Z-score filtering:\", df_zscore_clean.shape)"
   ]
  },
  {
   "cell_type": "markdown",
   "metadata": {},
   "source": [
    "#### IQR (Inter-Quartile Range)\n",
    "Inter Quartile Range approach to finding the outliers is the most commonly used and most trusted approach used in the research field. <Br>\n",
    "IQR = Quartile3 - Quartile1"
   ]
  },
  {
   "cell_type": "code",
   "execution_count": 181,
   "metadata": {},
   "outputs": [
    {
     "name": "stdout",
     "output_type": "stream",
     "text": [
      "\n",
      "Q1:\n",
      " age   -0.037299\n",
      "sex   -0.044642\n",
      "bmi   -0.034229\n",
      "bp    -0.036656\n",
      "s1    -0.034248\n",
      "s2    -0.030358\n",
      "s3    -0.035117\n",
      "s4    -0.039493\n",
      "s5    -0.033246\n",
      "s6    -0.033179\n",
      "Name: 0.25, dtype: float64\n",
      "\n",
      "Q3:\n",
      " age    0.038076\n",
      "sex    0.050680\n",
      "bmi    0.031248\n",
      "bp     0.035644\n",
      "s1     0.028358\n",
      "s2     0.029844\n",
      "s3     0.029312\n",
      "s4     0.034309\n",
      "s5     0.032432\n",
      "s6     0.027917\n",
      "Name: 0.75, dtype: float64\n",
      "\n",
      "IQR:\n",
      " age    0.075375\n",
      "sex    0.095322\n",
      "bmi    0.065477\n",
      "bp     0.072300\n",
      "s1     0.062606\n",
      "s2     0.060203\n",
      "s3     0.064429\n",
      "s4     0.073802\n",
      "s5     0.065678\n",
      "s6     0.061096\n",
      "dtype: float64\n"
     ]
    }
   ],
   "source": [
    "# 5. IQR Method (Optional)\n",
    "Q1 = diabetes_df_db.quantile(0.25)\n",
    "Q3 = diabetes_df_db.quantile(0.75)\n",
    "IQR = Q3 - Q1\n",
    "\n",
    "print(\"\\nQ1:\\n\", Q1)\n",
    "print(\"\\nQ3:\\n\", Q3)\n",
    "print(\"\\nIQR:\\n\",IQR)"
   ]
  },
  {
   "cell_type": "markdown",
   "metadata": {},
   "source": [
    "To define the outlier base value is defined above and below dataset’s normal range namely Upper and Lower bounds, define the upper and the lower bound (1.5*IQR value is considered) :<br>\n",
    "upper = Q3 + 1.5 * IQR <br>\n",
    "lower = Q1 - 1.5 * IQR <br> "
   ]
  },
  {
   "cell_type": "code",
   "execution_count": 182,
   "metadata": {},
   "outputs": [
    {
     "name": "stdout",
     "output_type": "stream",
     "text": [
      "\n",
      "Upper Bound:\n",
      " age    0.151139\n",
      "sex    0.193663\n",
      "bmi    0.129464\n",
      "bp     0.144094\n",
      "s1     0.122267\n",
      "s2     0.120149\n",
      "s3     0.125954\n",
      "s4     0.145012\n",
      "s5     0.130949\n",
      "s6     0.119561\n",
      "dtype: float64\n",
      "\n",
      "Lower Bound:\n",
      " age   -0.150362\n",
      "sex   -0.187624\n",
      "bmi   -0.132445\n",
      "bp    -0.145106\n",
      "s1    -0.128157\n",
      "s2    -0.120663\n",
      "s3    -0.131760\n",
      "s4    -0.150197\n",
      "s5    -0.131762\n",
      "s6    -0.124823\n",
      "dtype: float64\n"
     ]
    }
   ],
   "source": [
    "upper_bound = Q3 + 1.5 * IQR\n",
    "lower_bound = Q1 - 1.5 * IQR\n",
    "print(\"\\nUpper Bound:\\n\", upper_bound)\n",
    "print(\"\\nLower Bound:\\n\",lower_bound)"
   ]
  },
  {
   "cell_type": "markdown",
   "metadata": {},
   "source": [
    "- Removing the outliers:\n",
    "For removing the outlier, one must follow the same process of removing an entry from the dataset using its exact position in the dataset because in all the above methods of detecting the outliers end result is the list of all those data items that satisfy the outlier definition according to the method used."
   ]
  },
  {
   "cell_type": "code",
   "execution_count": 184,
   "metadata": {},
   "outputs": [
    {
     "name": "stdout",
     "output_type": "stream",
     "text": [
      "\n",
      "Shape after IQR filtering: (442, 10)\n"
     ]
    }
   ],
   "source": [
    "filtered_iqr = ~((diabetes_df_db < upper_bound)) | (diabetes_df_db > lower_bound).any(axis=1)\n",
    "diabetes_df_clean = diabetes_df_db[filtered_iqr]\n",
    "\n",
    "print(\"\\nShape after IQR filtering:\", diabetes_df_clean.shape)"
   ]
  }
 ],
 "metadata": {
  "kernelspec": {
   "display_name": ".venv",
   "language": "python",
   "name": "python3"
  },
  "language_info": {
   "codemirror_mode": {
    "name": "ipython",
    "version": 3
   },
   "file_extension": ".py",
   "mimetype": "text/x-python",
   "name": "python",
   "nbconvert_exporter": "python",
   "pygments_lexer": "ipython3",
   "version": "3.11.9"
  },
  "orig_nbformat": 4
 },
 "nbformat": 4,
 "nbformat_minor": 2
}
